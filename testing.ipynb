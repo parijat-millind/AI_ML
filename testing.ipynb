{
 "cells": [
  {
   "cell_type": "code",
   "execution_count": 1,
   "metadata": {},
   "outputs": [],
   "source": [
    "import pickle\n",
    "\n",
    "# Load the model from the file\n",
    "loaded_model = pickle.load(open(\"xgb_model.pkl\", \"rb\"))\n"
   ]
  },
  {
   "cell_type": "code",
   "execution_count": 5,
   "metadata": {},
   "outputs": [
    {
     "name": "stderr",
     "output_type": "stream",
     "text": [
      "C:\\Users\\Lenovo\\AppData\\Local\\Temp\\ipykernel_16740\\840950584.py:8: UserWarning: Could not infer format, so each element will be parsed individually, falling back to `dateutil`. To ensure parsing is consistent and as-expected, please specify a format.\n",
      "  data['Hour'] = pd.to_datetime(data['Time']).dt.hour\n"
     ]
    }
   ],
   "source": [
    "import pandas as pd\n",
    "\n",
    "# Read the CSV file\n",
    "data = pd.read_csv('Testing.csv')\n",
    "\n",
    "# Assuming your original test dataset is 'data'\n",
    "# Convert the 'Time' column to hour (you can adjust this based on your needs)\n",
    "data['Hour'] = pd.to_datetime(data['Time']).dt.hour\n",
    "\n",
    "# Drop the original 'Time' column\n",
    "data.drop(columns=['Time'], inplace=True)\n",
    "\n",
    "# Separate features (X_test) and target variable (y_test)\n",
    "X_test = data.drop(columns=['TrafficSituation'])\n",
    "y_test = data['TrafficSituation']\n",
    "\n"
   ]
  },
  {
   "cell_type": "code",
   "execution_count": null,
   "metadata": {},
   "outputs": [],
   "source": []
  }
 ],
 "metadata": {
  "kernelspec": {
   "display_name": "Python 3",
   "language": "python",
   "name": "python3"
  },
  "language_info": {
   "codemirror_mode": {
    "name": "ipython",
    "version": 3
   },
   "file_extension": ".py",
   "mimetype": "text/x-python",
   "name": "python",
   "nbconvert_exporter": "python",
   "pygments_lexer": "ipython3",
   "version": "3.11.4"
  }
 },
 "nbformat": 4,
 "nbformat_minor": 2
}
